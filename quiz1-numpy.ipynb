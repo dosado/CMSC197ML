{
 "cells": [
  {
   "cell_type": "code",
   "execution_count": 57,
   "id": "942eeb5a",
   "metadata": {},
   "outputs": [
    {
     "name": "stdout",
     "output_type": "stream",
     "text": [
      "%pylab is deprecated, use %matplotlib inline and import the required libraries.\n",
      "Populating the interactive namespace from numpy and matplotlib\n"
     ]
    }
   ],
   "source": [
    "#DOSADO, MICHAEL VINCENT    BSCS IV   CMSC197 ML QUIZ1\n",
    "\n",
    "#PART 1\n",
    "\n",
    "\n",
    "%pylab inline"
   ]
  },
  {
   "cell_type": "code",
   "execution_count": 42,
   "id": "907b3dd8",
   "metadata": {},
   "outputs": [
    {
     "data": {
      "text/plain": [
       "array([-1.        , -0.89473684, -0.78947368, -0.68421053, -0.57894737,\n",
       "       -0.47368421, -0.36842105, -0.26315789, -0.15789474, -0.05263158,\n",
       "        0.05263158,  0.15789474,  0.26315789,  0.36842105,  0.47368421,\n",
       "        0.57894737,  0.68421053,  0.78947368,  0.89473684,  1.        ])"
      ]
     },
     "execution_count": 42,
     "metadata": {},
     "output_type": "execute_result"
    }
   ],
   "source": [
    "y_hat = np.array(np.linspace(-1, 1, num=20))\n",
    "y_hat"
   ]
  },
  {
   "cell_type": "code",
   "execution_count": 43,
   "id": "59e499c3",
   "metadata": {},
   "outputs": [
    {
     "data": {
      "text/plain": [
       "array([0.        , 0.05263158, 0.10526316, 0.15789474, 0.21052632,\n",
       "       0.26315789, 0.31578947, 0.36842105, 0.42105263, 0.47368421,\n",
       "       0.52631579, 0.57894737, 0.63157895, 0.68421053, 0.73684211,\n",
       "       0.78947368, 0.84210526, 0.89473684, 0.94736842, 1.        ])"
      ]
     },
     "execution_count": 43,
     "metadata": {},
     "output_type": "execute_result"
    }
   ],
   "source": [
    "y = np.array(np.linspace(0,1,num=20))\n",
    "y"
   ]
  },
  {
   "cell_type": "code",
   "execution_count": 8,
   "id": "ae2e8103",
   "metadata": {},
   "outputs": [
    {
     "data": {
      "text/plain": [
       "(20,)"
      ]
     },
     "execution_count": 8,
     "metadata": {},
     "output_type": "execute_result"
    }
   ],
   "source": [
    "y_hat.shape"
   ]
  },
  {
   "cell_type": "code",
   "execution_count": 9,
   "id": "064da403",
   "metadata": {},
   "outputs": [
    {
     "data": {
      "text/plain": [
       "1"
      ]
     },
     "execution_count": 9,
     "metadata": {},
     "output_type": "execute_result"
    }
   ],
   "source": [
    "y_hat.ndim"
   ]
  },
  {
   "cell_type": "code",
   "execution_count": 10,
   "id": "b9e7a5d4",
   "metadata": {},
   "outputs": [
    {
     "data": {
      "text/plain": [
       "(20,)"
      ]
     },
     "execution_count": 10,
     "metadata": {},
     "output_type": "execute_result"
    }
   ],
   "source": [
    "y.shape"
   ]
  },
  {
   "cell_type": "code",
   "execution_count": 11,
   "id": "c52fe813",
   "metadata": {},
   "outputs": [
    {
     "data": {
      "text/plain": [
       "1"
      ]
     },
     "execution_count": 11,
     "metadata": {},
     "output_type": "execute_result"
    }
   ],
   "source": [
    "y.ndim"
   ]
  },
  {
   "cell_type": "code",
   "execution_count": 25,
   "id": "72202ead",
   "metadata": {},
   "outputs": [
    {
     "data": {
      "text/plain": [
       "0.3421052631578948"
      ]
     },
     "execution_count": 25,
     "metadata": {},
     "output_type": "execute_result"
    }
   ],
   "source": [
    "#Function to return the loss value using the MSE (mean squared error) formula\n",
    "def meanSquarederror(yhat,y):  \n",
    "    L = np.sum((y_hat-y)**2)/len(y_hat)\n",
    "    return L\n",
    "meanSquarederror(y_hat,y)"
   ]
  },
  {
   "cell_type": "code",
   "execution_count": 28,
   "id": "cb0c0e7c",
   "metadata": {},
   "outputs": [
    {
     "data": {
      "text/plain": [
       "0.4999999999999999"
      ]
     },
     "execution_count": 28,
     "metadata": {},
     "output_type": "execute_result"
    }
   ],
   "source": [
    "#Function to return the loss value using the MAE (mean absolute error) formula\n",
    "def meanAbsoluteError(yhat,y):\n",
    "    L = np.sum(np.absolute(y_hat-y))/len(y_hat)\n",
    "    return L\n",
    "meanAbsoluteError(y_hat,y)"
   ]
  },
  {
   "cell_type": "code",
   "execution_count": 39,
   "id": "6ac7b2ec",
   "metadata": {},
   "outputs": [
    {
     "name": "stderr",
     "output_type": "stream",
     "text": [
      "C:\\Users\\ASUS\\AppData\\Local\\Temp\\ipykernel_20432\\3610067111.py:3: RuntimeWarning: divide by zero encountered in log\n",
      "  L = np.sum((np.log(yhat+1)-(np.log(y+1)))**2)/len(yhat)\n"
     ]
    },
    {
     "data": {
      "text/plain": [
       "'Error: negative values => Target variable should be non-negative.'"
      ]
     },
     "execution_count": 39,
     "metadata": {},
     "output_type": "execute_result"
    }
   ],
   "source": [
    "#Function to return the loss value using the MSLE (mean squared logarithmic error) formula\n",
    "def meanSquaredlogarithmicError(yhat,y):\n",
    "    L = np.sum((np.log(yhat+1)-(np.log(y+1)))**2)/len(yhat)\n",
    "    if L == np.inf:\n",
    "        return \"Error: negative values => Target variable should be non-negative.\"\n",
    "    else:\n",
    "        return L\n",
    "meanSquaredlogarithmicError(y_hat,y)"
   ]
  },
  {
   "cell_type": "code",
   "execution_count": 54,
   "id": "0e4d3812",
   "metadata": {},
   "outputs": [
    {
     "name": "stdout",
     "output_type": "stream",
     "text": [
      "20\n",
      "inf\n"
     ]
    },
    {
     "name": "stderr",
     "output_type": "stream",
     "text": [
      "C:\\Users\\ASUS\\AppData\\Local\\Temp\\ipykernel_20432\\283485930.py:4: RuntimeWarning: divide by zero encountered in true_divide\n",
      "  L = (100*np.sum(np.absolute((yhat-y)/y)))/len(yhat)\n",
      "C:\\Users\\ASUS\\AppData\\Local\\Temp\\ipykernel_20432\\283485930.py:5: RuntimeWarning: divide by zero encountered in true_divide\n",
      "  print(np.sum(np.absolute((yhat-y)/y)))\n"
     ]
    },
    {
     "data": {
      "text/plain": [
       "inf"
      ]
     },
     "execution_count": 54,
     "metadata": {},
     "output_type": "execute_result"
    }
   ],
   "source": [
    "#Function to return the loss value using the MAPE (mean absolute percentage error) formula\n",
    "def meanAbsolutepercentageError(yhat,y):\n",
    "    print(len(y))\n",
    "    L = (100*np.sum(np.absolute((yhat-y)/y)))/len(yhat)\n",
    "    print(np.sum(np.absolute((yhat-y)/y)))\n",
    "    return L\n",
    "\n",
    "meanAbsolutepercentageError(y_hat,y)\n"
   ]
  },
  {
   "cell_type": "code",
   "execution_count": null,
   "id": "92559831",
   "metadata": {},
   "outputs": [],
   "source": []
  },
  {
   "cell_type": "code",
   "execution_count": 55,
   "id": "23408cb0",
   "metadata": {},
   "outputs": [],
   "source": [
    "#PART 2"
   ]
  },
  {
   "cell_type": "code",
   "execution_count": 96,
   "id": "3a8b94fb",
   "metadata": {},
   "outputs": [
    {
     "name": "stdout",
     "output_type": "stream",
     "text": [
      "[[ 1  2  3  4]\n",
      " [ 5  6  7  8]\n",
      " [ 9 10 11 12]\n",
      " [13 14 15 16]]\n",
      "2\n"
     ]
    },
    {
     "data": {
      "text/plain": [
       "(4, 4)"
      ]
     },
     "execution_count": 96,
     "metadata": {},
     "output_type": "execute_result"
    }
   ],
   "source": [
    "#Create 1D Array M using arange function\n",
    "M = np.arange(1,17)\n",
    "\n",
    "#Reshape M into 4x4 array and store it to N\n",
    "N = M.reshape(4,4)\n",
    "\n",
    "print(N)\n",
    "print(N.ndim)\n",
    "N.shape\n"
   ]
  },
  {
   "cell_type": "code",
   "execution_count": 103,
   "id": "5c7d9c65",
   "metadata": {},
   "outputs": [
    {
     "data": {
      "text/plain": [
       "array([5, 6, 7, 8])"
      ]
     },
     "execution_count": 103,
     "metadata": {},
     "output_type": "execute_result"
    }
   ],
   "source": [
    "#GET 2nd Row on N\n",
    "N[1,:]"
   ]
  },
  {
   "cell_type": "code",
   "execution_count": 112,
   "id": "d6ceee7e",
   "metadata": {},
   "outputs": [
    {
     "data": {
      "text/plain": [
       "array([1, 2, 3, 4])"
      ]
     },
     "execution_count": 112,
     "metadata": {},
     "output_type": "execute_result"
    }
   ],
   "source": [
    "#Get the minimum values for each column of N\n",
    "np.amin(N,axis=0)"
   ]
  },
  {
   "cell_type": "code",
   "execution_count": 114,
   "id": "5ccc1185",
   "metadata": {},
   "outputs": [
    {
     "data": {
      "text/plain": [
       "(array([0, 0, 0, 0], dtype=int64), array([0, 1, 2, 3], dtype=int64))"
      ]
     },
     "execution_count": 114,
     "metadata": {},
     "output_type": "execute_result"
    }
   ],
   "source": [
    "#Get the locations of the minimum values for each column of N\n",
    "np.where(N == np.amin(N,axis=0))"
   ]
  },
  {
   "cell_type": "code",
   "execution_count": 117,
   "id": "f9c29822",
   "metadata": {},
   "outputs": [
    {
     "data": {
      "text/plain": [
       "8.5"
      ]
     },
     "execution_count": 117,
     "metadata": {},
     "output_type": "execute_result"
    }
   ],
   "source": [
    "#Get the average of the whole matrix\n",
    "ave = np.mean(N)\n",
    "ave"
   ]
  },
  {
   "cell_type": "code",
   "execution_count": 136,
   "id": "a652af41",
   "metadata": {},
   "outputs": [
    {
     "name": "stdout",
     "output_type": "stream",
     "text": [
      "[1 1 1 1]\n"
     ]
    }
   ],
   "source": [
    "#Create a vector V with 4 elements, each element is 1\n",
    "list1 = [1, 1, 1,1]\n",
    "V = np.array(list1)\n",
    "print(V)\n"
   ]
  },
  {
   "cell_type": "code",
   "execution_count": 137,
   "id": "cf07dbe7",
   "metadata": {},
   "outputs": [
    {
     "name": "stdout",
     "output_type": "stream",
     "text": [
      "[[ 1  2  3  4]\n",
      " [ 5  6  7  8]\n",
      " [ 9 10 11 12]\n",
      " [13 14 15 16]]\n",
      "[1 1 1 1]\n"
     ]
    },
    {
     "data": {
      "text/plain": [
       "array([10, 26, 42, 58])"
      ]
     },
     "execution_count": 137,
     "metadata": {},
     "output_type": "execute_result"
    }
   ],
   "source": [
    "#Take the dot product of N and V\n",
    "dotProdNV = np.dot(N,V)\n",
    "print(N)\n",
    "print(V)\n",
    "dotProdNV"
   ]
  },
  {
   "cell_type": "code",
   "execution_count": null,
   "id": "d61b6166",
   "metadata": {},
   "outputs": [],
   "source": []
  }
 ],
 "metadata": {
  "kernelspec": {
   "display_name": "Python 3 (ipykernel)",
   "language": "python",
   "name": "python3"
  },
  "language_info": {
   "codemirror_mode": {
    "name": "ipython",
    "version": 3
   },
   "file_extension": ".py",
   "mimetype": "text/x-python",
   "name": "python",
   "nbconvert_exporter": "python",
   "pygments_lexer": "ipython3",
   "version": "3.9.12"
  }
 },
 "nbformat": 4,
 "nbformat_minor": 5
}
