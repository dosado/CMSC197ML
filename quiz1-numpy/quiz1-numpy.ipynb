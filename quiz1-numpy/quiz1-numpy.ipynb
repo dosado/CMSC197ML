{
 "cells": [
  {
   "cell_type": "code",
   "execution_count": 1,
   "id": "942eeb5a",
   "metadata": {},
   "outputs": [
    {
     "ename": "ModuleNotFoundError",
     "evalue": "No module named 'matplotlib'",
     "output_type": "error",
     "traceback": [
      "\u001b[1;31m---------------------------------------------------------------------------\u001b[0m",
      "\u001b[1;31mModuleNotFoundError\u001b[0m                       Traceback (most recent call last)",
      "Cell \u001b[1;32mIn [1], line 6\u001b[0m\n\u001b[0;32m      1\u001b[0m \u001b[38;5;66;03m#DOSADO, MICHAEL VINCENT    BSCS IV   CMSC197 ML QUIZ1\u001b[39;00m\n\u001b[0;32m      2\u001b[0m \n\u001b[0;32m      3\u001b[0m \u001b[38;5;66;03m#PART 1\u001b[39;00m\n\u001b[0;32m      4\u001b[0m \n\u001b[0;32m      5\u001b[0m \u001b[38;5;66;03m#code to start pylab libraries\u001b[39;00m\n\u001b[1;32m----> 6\u001b[0m \u001b[43mget_ipython\u001b[49m\u001b[43m(\u001b[49m\u001b[43m)\u001b[49m\u001b[38;5;241;43m.\u001b[39;49m\u001b[43mrun_line_magic\u001b[49m\u001b[43m(\u001b[49m\u001b[38;5;124;43m'\u001b[39;49m\u001b[38;5;124;43mpylab\u001b[39;49m\u001b[38;5;124;43m'\u001b[39;49m\u001b[43m,\u001b[49m\u001b[43m \u001b[49m\u001b[38;5;124;43m'\u001b[39;49m\u001b[38;5;124;43minline\u001b[39;49m\u001b[38;5;124;43m'\u001b[39;49m\u001b[43m)\u001b[49m\n",
      "File \u001b[1;32mc:\\Users\\ASUS\\AppData\\Local\\Programs\\Python\\Python310\\lib\\site-packages\\IPython\\core\\interactiveshell.py:2309\u001b[0m, in \u001b[0;36mInteractiveShell.run_line_magic\u001b[1;34m(self, magic_name, line, _stack_depth)\u001b[0m\n\u001b[0;32m   2307\u001b[0m     kwargs[\u001b[39m'\u001b[39m\u001b[39mlocal_ns\u001b[39m\u001b[39m'\u001b[39m] \u001b[39m=\u001b[39m \u001b[39mself\u001b[39m\u001b[39m.\u001b[39mget_local_scope(stack_depth)\n\u001b[0;32m   2308\u001b[0m \u001b[39mwith\u001b[39;00m \u001b[39mself\u001b[39m\u001b[39m.\u001b[39mbuiltin_trap:\n\u001b[1;32m-> 2309\u001b[0m     result \u001b[39m=\u001b[39m fn(\u001b[39m*\u001b[39margs, \u001b[39m*\u001b[39m\u001b[39m*\u001b[39mkwargs)\n\u001b[0;32m   2310\u001b[0m \u001b[39mreturn\u001b[39;00m result\n",
      "File \u001b[1;32mc:\\Users\\ASUS\\AppData\\Local\\Programs\\Python\\Python310\\lib\\site-packages\\IPython\\core\\magics\\pylab.py:155\u001b[0m, in \u001b[0;36mPylabMagics.pylab\u001b[1;34m(self, line)\u001b[0m\n\u001b[0;32m    151\u001b[0m \u001b[39melse\u001b[39;00m:\n\u001b[0;32m    152\u001b[0m     \u001b[39m# invert no-import flag\u001b[39;00m\n\u001b[0;32m    153\u001b[0m     import_all \u001b[39m=\u001b[39m \u001b[39mnot\u001b[39;00m args\u001b[39m.\u001b[39mno_import_all\n\u001b[1;32m--> 155\u001b[0m gui, backend, clobbered \u001b[39m=\u001b[39m \u001b[39mself\u001b[39;49m\u001b[39m.\u001b[39;49mshell\u001b[39m.\u001b[39;49menable_pylab(args\u001b[39m.\u001b[39;49mgui, import_all\u001b[39m=\u001b[39;49mimport_all)\n\u001b[0;32m    156\u001b[0m \u001b[39mself\u001b[39m\u001b[39m.\u001b[39m_show_matplotlib_backend(args\u001b[39m.\u001b[39mgui, backend)\n\u001b[0;32m    157\u001b[0m \u001b[39mprint\u001b[39m(\n\u001b[0;32m    158\u001b[0m     \u001b[39m\"\u001b[39m\u001b[39m%\u001b[39m\u001b[39mpylab is deprecated, use \u001b[39m\u001b[39m%\u001b[39m\u001b[39mmatplotlib inline and import the required libraries.\u001b[39m\u001b[39m\"\u001b[39m\n\u001b[0;32m    159\u001b[0m )\n",
      "File \u001b[1;32mc:\\Users\\ASUS\\AppData\\Local\\Programs\\Python\\Python310\\lib\\site-packages\\IPython\\core\\interactiveshell.py:3512\u001b[0m, in \u001b[0;36mInteractiveShell.enable_pylab\u001b[1;34m(self, gui, import_all, welcome_message)\u001b[0m\n\u001b[0;32m   3485\u001b[0m \u001b[39m\"\"\"Activate pylab support at runtime.\u001b[39;00m\n\u001b[0;32m   3486\u001b[0m \n\u001b[0;32m   3487\u001b[0m \u001b[39mThis turns on support for matplotlib, preloads into the interactive\u001b[39;00m\n\u001b[1;32m   (...)\u001b[0m\n\u001b[0;32m   3508\u001b[0m \u001b[39m    This argument is ignored, no welcome message will be displayed.\u001b[39;00m\n\u001b[0;32m   3509\u001b[0m \u001b[39m\"\"\"\u001b[39;00m\n\u001b[0;32m   3510\u001b[0m \u001b[39mfrom\u001b[39;00m \u001b[39mIPython\u001b[39;00m\u001b[39m.\u001b[39;00m\u001b[39mcore\u001b[39;00m\u001b[39m.\u001b[39;00m\u001b[39mpylabtools\u001b[39;00m \u001b[39mimport\u001b[39;00m import_pylab\n\u001b[1;32m-> 3512\u001b[0m gui, backend \u001b[39m=\u001b[39m \u001b[39mself\u001b[39;49m\u001b[39m.\u001b[39;49menable_matplotlib(gui)\n\u001b[0;32m   3514\u001b[0m \u001b[39m# We want to prevent the loading of pylab to pollute the user's\u001b[39;00m\n\u001b[0;32m   3515\u001b[0m \u001b[39m# namespace as shown by the %who* magics, so we execute the activation\u001b[39;00m\n\u001b[0;32m   3516\u001b[0m \u001b[39m# code in an empty namespace, and we update *both* user_ns and\u001b[39;00m\n\u001b[0;32m   3517\u001b[0m \u001b[39m# user_ns_hidden with this information.\u001b[39;00m\n\u001b[0;32m   3518\u001b[0m ns \u001b[39m=\u001b[39m {}\n",
      "File \u001b[1;32mc:\\Users\\ASUS\\AppData\\Local\\Programs\\Python\\Python310\\lib\\site-packages\\IPython\\core\\interactiveshell.py:3458\u001b[0m, in \u001b[0;36mInteractiveShell.enable_matplotlib\u001b[1;34m(self, gui)\u001b[0m\n\u001b[0;32m   3437\u001b[0m \u001b[39mdef\u001b[39;00m \u001b[39menable_matplotlib\u001b[39m(\u001b[39mself\u001b[39m, gui\u001b[39m=\u001b[39m\u001b[39mNone\u001b[39;00m):\n\u001b[0;32m   3438\u001b[0m     \u001b[39m\"\"\"Enable interactive matplotlib and inline figure support.\u001b[39;00m\n\u001b[0;32m   3439\u001b[0m \n\u001b[0;32m   3440\u001b[0m \u001b[39m    This takes the following steps:\u001b[39;00m\n\u001b[1;32m   (...)\u001b[0m\n\u001b[0;32m   3456\u001b[0m \u001b[39m        display figures inline.\u001b[39;00m\n\u001b[0;32m   3457\u001b[0m \u001b[39m    \"\"\"\u001b[39;00m\n\u001b[1;32m-> 3458\u001b[0m     \u001b[39mfrom\u001b[39;00m \u001b[39mmatplotlib_inline\u001b[39;00m\u001b[39m.\u001b[39;00m\u001b[39mbackend_inline\u001b[39;00m \u001b[39mimport\u001b[39;00m configure_inline_support\n\u001b[0;32m   3460\u001b[0m     \u001b[39mfrom\u001b[39;00m \u001b[39mIPython\u001b[39;00m\u001b[39m.\u001b[39;00m\u001b[39mcore\u001b[39;00m \u001b[39mimport\u001b[39;00m pylabtools \u001b[39mas\u001b[39;00m pt\n\u001b[0;32m   3461\u001b[0m     gui, backend \u001b[39m=\u001b[39m pt\u001b[39m.\u001b[39mfind_gui_and_backend(gui, \u001b[39mself\u001b[39m\u001b[39m.\u001b[39mpylab_gui_select)\n",
      "File \u001b[1;32mc:\\Users\\ASUS\\AppData\\Local\\Programs\\Python\\Python310\\lib\\site-packages\\matplotlib_inline\\__init__.py:1\u001b[0m\n\u001b[1;32m----> 1\u001b[0m \u001b[39mfrom\u001b[39;00m \u001b[39m.\u001b[39;00m \u001b[39mimport\u001b[39;00m backend_inline, config  \u001b[39m# noqa\u001b[39;00m\n\u001b[0;32m      2\u001b[0m __version__ \u001b[39m=\u001b[39m \u001b[39m\"\u001b[39m\u001b[39m0.1.6\u001b[39m\u001b[39m\"\u001b[39m\n",
      "File \u001b[1;32mc:\\Users\\ASUS\\AppData\\Local\\Programs\\Python\\Python310\\lib\\site-packages\\matplotlib_inline\\backend_inline.py:6\u001b[0m\n\u001b[0;32m      1\u001b[0m \u001b[39m\"\"\"A matplotlib backend for publishing figures via display_data\"\"\"\u001b[39;00m\n\u001b[0;32m      3\u001b[0m \u001b[39m# Copyright (c) IPython Development Team.\u001b[39;00m\n\u001b[0;32m      4\u001b[0m \u001b[39m# Distributed under the terms of the BSD 3-Clause License.\u001b[39;00m\n\u001b[1;32m----> 6\u001b[0m \u001b[39mimport\u001b[39;00m \u001b[39mmatplotlib\u001b[39;00m\n\u001b[0;32m      7\u001b[0m \u001b[39mfrom\u001b[39;00m \u001b[39mmatplotlib\u001b[39;00m \u001b[39mimport\u001b[39;00m colors\n\u001b[0;32m      8\u001b[0m \u001b[39mfrom\u001b[39;00m \u001b[39mmatplotlib\u001b[39;00m\u001b[39m.\u001b[39;00m\u001b[39mbackends\u001b[39;00m \u001b[39mimport\u001b[39;00m backend_agg\n",
      "\u001b[1;31mModuleNotFoundError\u001b[0m: No module named 'matplotlib'"
     ]
    }
   ],
   "source": [
    "#DOSADO, MICHAEL VINCENT    BSCS IV   CMSC197 ML QUIZ1\n",
    "\n",
    "#PART 1\n",
    "\n",
    "#code to start pylab libraries\n",
    "%pylab inline"
   ]
  },
  {
   "cell_type": "code",
   "execution_count": 144,
   "id": "907b3dd8",
   "metadata": {},
   "outputs": [
    {
     "data": {
      "text/plain": [
       "array([-1.        , -0.89473684, -0.78947368, -0.68421053, -0.57894737,\n",
       "       -0.47368421, -0.36842105, -0.26315789, -0.15789474, -0.05263158,\n",
       "        0.05263158,  0.15789474,  0.26315789,  0.36842105,  0.47368421,\n",
       "        0.57894737,  0.68421053,  0.78947368,  0.89473684,  1.        ])"
      ]
     },
     "execution_count": 144,
     "metadata": {},
     "output_type": "execute_result"
    }
   ],
   "source": [
    "#Create 2 2D arrays, y_hat and y\n",
    "#• y_hat \n",
    "#Initialize y_hat with 20 linearly spaced numbers between -1 and 1\n",
    "y_hat = np.array(np.linspace(-1, 1, num=20)) #Use of np.linspace to get the evenly spaced values of 20 items\n",
    "y_hat                                        #print/ouput array"
   ]
  },
  {
   "cell_type": "code",
   "execution_count": 145,
   "id": "59e499c3",
   "metadata": {},
   "outputs": [
    {
     "data": {
      "text/plain": [
       "array([0.        , 0.05263158, 0.10526316, 0.15789474, 0.21052632,\n",
       "       0.26315789, 0.31578947, 0.36842105, 0.42105263, 0.47368421,\n",
       "       0.52631579, 0.57894737, 0.63157895, 0.68421053, 0.73684211,\n",
       "       0.78947368, 0.84210526, 0.89473684, 0.94736842, 1.        ])"
      ]
     },
     "execution_count": 145,
     "metadata": {},
     "output_type": "execute_result"
    }
   ],
   "source": [
    "#Create 2 2D arrays, y_hat and y\n",
    "#• y \n",
    "#Initialize y with 20 linearly spaced numbers between 0 and 1\n",
    "y = np.array(np.linspace(0,1,num=20)) #Use of np.linspace to get the evenly spaced values of 20 items\n",
    "y                                     #print/ouput array"
   ]
  },
  {
   "cell_type": "code",
   "execution_count": 149,
   "id": "ae2e8103",
   "metadata": {},
   "outputs": [
    {
     "data": {
      "text/plain": [
       "(20,)"
      ]
     },
     "execution_count": 149,
     "metadata": {},
     "output_type": "execute_result"
    }
   ],
   "source": [
    "#Compute for the shape and dimension of y_hat\n",
    "y_hat_shape = y_hat.shape  #y_hat SHAPE  \n",
    "y_hat_shape"
   ]
  },
  {
   "cell_type": "code",
   "execution_count": 150,
   "id": "064da403",
   "metadata": {},
   "outputs": [
    {
     "data": {
      "text/plain": [
       "1"
      ]
     },
     "execution_count": 150,
     "metadata": {},
     "output_type": "execute_result"
    }
   ],
   "source": [
    "#Compute for the shape and dimension of y_hat\n",
    "y_hat_dimension =  y_hat.ndim    #y_hat DIMENSION\n",
    "y_hat_dimension"
   ]
  },
  {
   "cell_type": "code",
   "execution_count": 151,
   "id": "b9e7a5d4",
   "metadata": {},
   "outputs": [
    {
     "data": {
      "text/plain": [
       "(20,)"
      ]
     },
     "execution_count": 151,
     "metadata": {},
     "output_type": "execute_result"
    }
   ],
   "source": [
    "#Compute for the shape and dimension of y\n",
    "y.shape"
   ]
  },
  {
   "cell_type": "code",
   "execution_count": 152,
   "id": "c52fe813",
   "metadata": {},
   "outputs": [
    {
     "data": {
      "text/plain": [
       "1"
      ]
     },
     "execution_count": 152,
     "metadata": {},
     "output_type": "execute_result"
    }
   ],
   "source": [
    "##Compute for the shape and dimension of y\n",
    "y.ndim"
   ]
  },
  {
   "cell_type": "code",
   "execution_count": 156,
   "id": "72202ead",
   "metadata": {},
   "outputs": [
    {
     "data": {
      "text/plain": [
       "0.3421052631578948"
      ]
     },
     "execution_count": 156,
     "metadata": {},
     "output_type": "execute_result"
    }
   ],
   "source": [
    "#NOTE: since it is needed that array must have the no. of items N, then we can use the len(array) function to get N\n",
    "\n",
    "#Function to return the loss value using the MSE (mean squared error) formula\n",
    "def meanSquarederror(yhat,y):           #yhat and y as parameters\n",
    "    L = np.sum((y_hat-y)**2)/len(y_hat) #variable L to get the result of the formula\n",
    "    return L                            #return result L  or  Loss value L\n",
    "meanSquarederror(y_hat,y)"
   ]
  },
  {
   "cell_type": "code",
   "execution_count": 28,
   "id": "cb0c0e7c",
   "metadata": {},
   "outputs": [
    {
     "data": {
      "text/plain": [
       "0.4999999999999999"
      ]
     },
     "execution_count": 28,
     "metadata": {},
     "output_type": "execute_result"
    }
   ],
   "source": [
    "#Function to return the loss value using the MAE (mean absolute error) formula\n",
    "def meanAbsoluteError(yhat,y):                  #yhat and y as parameters\n",
    "    L = np.sum(np.absolute(y_hat-y))/len(y_hat) #variable L to get the result of the formula\n",
    "                                                #use of np.sum and np.absolute\n",
    "    return L                                    #return loss value L\n",
    "meanAbsoluteError(y_hat,y)"
   ]
  },
  {
   "cell_type": "code",
   "execution_count": 39,
   "id": "6ac7b2ec",
   "metadata": {},
   "outputs": [
    {
     "name": "stderr",
     "output_type": "stream",
     "text": [
      "C:\\Users\\ASUS\\AppData\\Local\\Temp\\ipykernel_20432\\3610067111.py:3: RuntimeWarning: divide by zero encountered in log\n",
      "  L = np.sum((np.log(yhat+1)-(np.log(y+1)))**2)/len(yhat)\n"
     ]
    },
    {
     "data": {
      "text/plain": [
       "'Error: negative values => Target variable should be non-negative.'"
      ]
     },
     "execution_count": 39,
     "metadata": {},
     "output_type": "execute_result"
    }
   ],
   "source": [
    "#Function to return the loss value using the MSLE (mean squared logarithmic error) formula\n",
    "def meanSquaredlogarithmicError(yhat,y):\n",
    "    L = np.sum((np.log(yhat+1)-(np.log(y+1)))**2)/len(yhat)\n",
    "    if L == np.inf:                            #error catch for target variables that are negative\n",
    "        return \"Error: negative values => Target variable should be non-negative.\"\n",
    "    else:\n",
    "        return L        #return loss value L for non-negative values\n",
    "meanSquaredlogarithmicError(y_hat,y)"
   ]
  },
  {
   "cell_type": "code",
   "execution_count": 155,
   "id": "ccb6e73b",
   "metadata": {},
   "outputs": [
    {
     "name": "stderr",
     "output_type": "stream",
     "text": [
      "C:\\Users\\ASUS\\AppData\\Local\\Temp\\ipykernel_20432\\2854010983.py:3: RuntimeWarning: divide by zero encountered in true_divide\n",
      "  L = (100*np.sum(np.absolute((yhat-y)/y)))/len(yhat)\n"
     ]
    },
    {
     "data": {
      "text/plain": [
       "inf"
      ]
     },
     "execution_count": 155,
     "metadata": {},
     "output_type": "execute_result"
    }
   ],
   "source": [
    "#Function to return the loss value using the MAPE (mean absolute percentage error) formula\n",
    "def meanAbsolutepercentageError(yhat,y):\n",
    "    L = (100*np.sum(np.absolute((yhat-y)/y)))/len(yhat)\n",
    "    return L                               #return loss value L\n",
    "\n",
    "meanAbsolutepercentageError(y_hat,y)\n"
   ]
  },
  {
   "cell_type": "code",
   "execution_count": null,
   "id": "788e9976",
   "metadata": {},
   "outputs": [],
   "source": []
  },
  {
   "cell_type": "code",
   "execution_count": 158,
   "id": "c1c574e3",
   "metadata": {},
   "outputs": [],
   "source": [
    "#PART 2"
   ]
  },
  {
   "cell_type": "code",
   "execution_count": 157,
   "id": "49cd11b5",
   "metadata": {},
   "outputs": [
    {
     "data": {
      "text/plain": [
       "(4, 4)"
      ]
     },
     "execution_count": 157,
     "metadata": {},
     "output_type": "execute_result"
    }
   ],
   "source": [
    "#Create 1D Array M using arange function\n",
    "M = np.arange(1,17)\n",
    "\n",
    "#Reshape M into 4x4 array and store it to N\n",
    "N = M.reshape(4,4)\n",
    "\n",
    "\n",
    "N.shape\n"
   ]
  },
  {
   "cell_type": "code",
   "execution_count": 103,
   "id": "a8df880d",
   "metadata": {},
   "outputs": [
    {
     "data": {
      "text/plain": [
       "array([5, 6, 7, 8])"
      ]
     },
     "execution_count": 103,
     "metadata": {},
     "output_type": "execute_result"
    }
   ],
   "source": [
    "#GET 2nd Row on N\n",
    "N[1,:]"
   ]
  },
  {
   "cell_type": "code",
   "execution_count": 112,
   "id": "f91516f2",
   "metadata": {},
   "outputs": [
    {
     "data": {
      "text/plain": [
       "array([1, 2, 3, 4])"
      ]
     },
     "execution_count": 112,
     "metadata": {},
     "output_type": "execute_result"
    }
   ],
   "source": [
    "#Get the minimum values for each column of N\n",
    "np.amin(N,axis=0)"
   ]
  },
  {
   "cell_type": "code",
   "execution_count": 114,
   "id": "e238ed92",
   "metadata": {},
   "outputs": [
    {
     "data": {
      "text/plain": [
       "(array([0, 0, 0, 0], dtype=int64), array([0, 1, 2, 3], dtype=int64))"
      ]
     },
     "execution_count": 114,
     "metadata": {},
     "output_type": "execute_result"
    }
   ],
   "source": [
    "#Get the locations of the minimum values for each column of N\n",
    "np.where(N == np.amin(N,axis=0))"
   ]
  },
  {
   "cell_type": "code",
   "execution_count": 117,
   "id": "89d31f9b",
   "metadata": {},
   "outputs": [
    {
     "data": {
      "text/plain": [
       "8.5"
      ]
     },
     "execution_count": 117,
     "metadata": {},
     "output_type": "execute_result"
    }
   ],
   "source": [
    "#Get the average of the whole matrix\n",
    "ave = np.mean(N)\n",
    "ave"
   ]
  },
  {
   "cell_type": "code",
   "execution_count": 160,
   "id": "96584b93",
   "metadata": {},
   "outputs": [
    {
     "data": {
      "text/plain": [
       "array([1, 1, 1, 1])"
      ]
     },
     "execution_count": 160,
     "metadata": {},
     "output_type": "execute_result"
    }
   ],
   "source": [
    "#Create a vector V with 4 elements, each element is 1\n",
    "list1 = [1, 1, 1,1]\n",
    "V = np.array(list1)\n",
    "V\n"
   ]
  },
  {
   "cell_type": "code",
   "execution_count": 137,
   "id": "a71fd16c",
   "metadata": {},
   "outputs": [
    {
     "name": "stdout",
     "output_type": "stream",
     "text": [
      "[[ 1  2  3  4]\n",
      " [ 5  6  7  8]\n",
      " [ 9 10 11 12]\n",
      " [13 14 15 16]]\n",
      "[1 1 1 1]\n"
     ]
    },
    {
     "data": {
      "text/plain": [
       "array([10, 26, 42, 58])"
      ]
     },
     "execution_count": 137,
     "metadata": {},
     "output_type": "execute_result"
    }
   ],
   "source": [
    "#Take the dot product of N and V\n",
    "dotProdNV = np.dot(N,V)\n",
    "print(N)\n",
    "print(V)\n",
    "dotProdNV"
   ]
  },
  {
   "cell_type": "code",
   "execution_count": null,
   "id": "252dd0c6",
   "metadata": {},
   "outputs": [],
   "source": []
  }
 ],
 "metadata": {
  "kernelspec": {
   "display_name": "Python 3.10.7 64-bit",
   "language": "python",
   "name": "python3"
  },
  "language_info": {
   "codemirror_mode": {
    "name": "ipython",
    "version": 3
   },
   "file_extension": ".py",
   "mimetype": "text/x-python",
   "name": "python",
   "nbconvert_exporter": "python",
   "pygments_lexer": "ipython3",
   "version": "3.10.7"
  },
  "vscode": {
   "interpreter": {
    "hash": "27f6fea6f47ae512550f0b8facdbd035a93e1dd89633f7bf2dd00a2502c71d0d"
   }
  }
 },
 "nbformat": 4,
 "nbformat_minor": 5
}
